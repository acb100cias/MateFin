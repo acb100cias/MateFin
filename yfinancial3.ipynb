{
  "nbformat": 4,
  "nbformat_minor": 0,
  "metadata": {
    "colab": {
      "private_outputs": true,
      "provenance": [],
      "authorship_tag": "ABX9TyNfC2oPya8ETdrLqwDYd3Ui",
      "include_colab_link": true
    },
    "kernelspec": {
      "name": "python3",
      "display_name": "Python 3"
    },
    "language_info": {
      "name": "python"
    }
  },
  "cells": [
    {
      "cell_type": "markdown",
      "metadata": {
        "id": "view-in-github",
        "colab_type": "text"
      },
      "source": [
        "<a href=\"https://colab.research.google.com/github/acb100cias/MateFin/blob/main/yfinancial3.ipynb\" target=\"_parent\"><img src=\"https://colab.research.google.com/assets/colab-badge.svg\" alt=\"Open In Colab\"/></a>"
      ]
    },
    {
      "cell_type": "code",
      "execution_count": null,
      "metadata": {
        "id": "yWFh34ako2FQ"
      },
      "outputs": [],
      "source": [
        "!pip install yfinance"
      ]
    },
    {
      "cell_type": "code",
      "source": [
        "import pandas as pd\n",
        "import yfinance as yf\n"
      ],
      "metadata": {
        "id": "E-u4LhQrpU1c"
      },
      "execution_count": null,
      "outputs": []
    },
    {
      "cell_type": "code",
      "source": [
        "goog=yf.Ticker('goog')"
      ],
      "metadata": {
        "id": "HXIw8d0FpkIK"
      },
      "execution_count": null,
      "outputs": []
    },
    {
      "cell_type": "code",
      "source": [
        "goog.earnings"
      ],
      "metadata": {
        "id": "NX2RXAitp4-F"
      },
      "execution_count": null,
      "outputs": []
    },
    {
      "cell_type": "code",
      "source": [
        "goog.info.keys()"
      ],
      "metadata": {
        "id": "GwA9D3urqBDO"
      },
      "execution_count": null,
      "outputs": []
    },
    {
      "cell_type": "code",
      "source": [
        "goog.info['totalCash']"
      ],
      "metadata": {
        "id": "WM-nyk9gqHVC"
      },
      "execution_count": null,
      "outputs": []
    },
    {
      "cell_type": "code",
      "source": [
        "goog.financials"
      ],
      "metadata": {
        "id": "sAOvta94qWTv"
      },
      "execution_count": null,
      "outputs": []
    },
    {
      "cell_type": "code",
      "source": [
        "goog.balancesheet"
      ],
      "metadata": {
        "id": "KVYafNqUqlGD"
      },
      "execution_count": null,
      "outputs": []
    },
    {
      "cell_type": "code",
      "source": [
        "goog.cashflow"
      ],
      "metadata": {
        "id": "JG7kInufqpQ_"
      },
      "execution_count": null,
      "outputs": []
    },
    {
      "cell_type": "code",
      "source": [
        "fin=goog.financials\n",
        "bs=goog.balancesheet\n",
        "fe=goog.cashflow\n"
      ],
      "metadata": {
        "id": "oJAr6Okfq5Q_"
      },
      "execution_count": null,
      "outputs": []
    },
    {
      "cell_type": "code",
      "source": [
        "G=pd.concat([fin,bs,fe])"
      ],
      "metadata": {
        "id": "xdnnZg-grRWL"
      },
      "execution_count": null,
      "outputs": []
    },
    {
      "cell_type": "code",
      "source": [
        "G"
      ],
      "metadata": {
        "id": "0-Z9NDATraP4"
      },
      "execution_count": null,
      "outputs": []
    },
    {
      "cell_type": "code",
      "source": [
        "tickers=['FB','AMZN','NFLX','GOOG','INTC']"
      ],
      "metadata": {
        "id": "NOPKkj5brbTA"
      },
      "execution_count": null,
      "outputs": []
    },
    {
      "cell_type": "code",
      "source": [
        "tickers=[yf.Ticker(ticker)for ticker in tickers]"
      ],
      "metadata": {
        "id": "pChP_oeRr9qY"
      },
      "execution_count": null,
      "outputs": []
    },
    {
      "cell_type": "code",
      "source": [
        "tickers"
      ],
      "metadata": {
        "id": "A2uTDZFAsNxJ"
      },
      "execution_count": null,
      "outputs": []
    },
    {
      "cell_type": "code",
      "source": [
        "DF=[]\n",
        "for t in tickers:\n",
        "  fin=t.financials\n",
        "  bs=t.balancesheet\n",
        "  cf=t.cashflow\n",
        "  T=pd.concat([fin,bs,cf])\n",
        "  D=T.T\n",
        "  D=D.reset_index()\n",
        "  D.columns=['Fecha',*D.columns[1:]]\n",
        "  D['Ticker']=t.ticker\n",
        "  DF.append(D)\n",
        "\n"
      ],
      "metadata": {
        "id": "tfQo3beesU8z"
      },
      "execution_count": null,
      "outputs": []
    },
    {
      "cell_type": "code",
      "source": [
        "D"
      ],
      "metadata": {
        "id": "bhlJRuKat5FJ"
      },
      "execution_count": null,
      "outputs": []
    },
    {
      "cell_type": "code",
      "source": [
        "tabla2=pd.concat(DF,ignore_index=True)"
      ],
      "metadata": {
        "id": "MAzi9dNtt7aE"
      },
      "execution_count": null,
      "outputs": []
    },
    {
      "cell_type": "code",
      "source": [
        "tabla2=tabla2.set_index(['Ticker','Fecha'])"
      ],
      "metadata": {
        "id": "JEBiWqRZugc9"
      },
      "execution_count": null,
      "outputs": []
    },
    {
      "cell_type": "code",
      "source": [
        "tabla2"
      ],
      "metadata": {
        "id": "3Pb0Vn25vN4u"
      },
      "execution_count": null,
      "outputs": []
    },
    {
      "cell_type": "code",
      "source": [],
      "metadata": {
        "id": "1h307gDRvPXl"
      },
      "execution_count": null,
      "outputs": []
    }
  ]
}
{
  "nbformat": 4,
  "nbformat_minor": 0,
  "metadata": {
    "colab": {
      "private_outputs": true,
      "provenance": [],
      "authorship_tag": "ABX9TyP7rxhkDiE7/W8DFDp2wxY8",
      "include_colab_link": true
    },
    "kernelspec": {
      "name": "python3",
      "display_name": "Python 3"
    },
    "language_info": {
      "name": "python"
    }
  },
  "cells": [
    {
      "cell_type": "markdown",
      "metadata": {
        "id": "view-in-github",
        "colab_type": "text"
      },
      "source": [
        "<a href=\"https://colab.research.google.com/github/acb100cias/MateFin/blob/main/yfinancial1.ipynb\" target=\"_parent\"><img src=\"https://colab.research.google.com/assets/colab-badge.svg\" alt=\"Open In Colab\"/></a>"
      ]
    },
    {
      "cell_type": "code",
      "execution_count": null,
      "metadata": {
        "id": "MT2Me-822OGR"
      },
      "outputs": [],
      "source": [
        "!pip install yfinance"
      ]
    },
    {
      "cell_type": "code",
      "source": [
        "import pandas as pd\n",
        "import yfinance as yf"
      ],
      "metadata": {
        "id": "DTm_rpmF2_1a"
      },
      "execution_count": null,
      "outputs": []
    },
    {
      "cell_type": "code",
      "source": [
        "gog=yf.Ticker('goog')"
      ],
      "metadata": {
        "id": "lvuXGaZ53Ko5"
      },
      "execution_count": null,
      "outputs": []
    },
    {
      "cell_type": "code",
      "source": [
        "dir(gog)"
      ],
      "metadata": {
        "id": "ndWg-Ycz3j4q"
      },
      "execution_count": null,
      "outputs": []
    },
    {
      "cell_type": "code",
      "source": [
        "DatosGog=gog.history()"
      ],
      "metadata": {
        "id": "PA5fFwCv3pYI"
      },
      "execution_count": null,
      "outputs": []
    },
    {
      "cell_type": "code",
      "source": [
        "DatosGog.head()"
      ],
      "metadata": {
        "id": "mow_OOfd35n1"
      },
      "execution_count": null,
      "outputs": []
    },
    {
      "cell_type": "code",
      "source": [
        "DatosGog"
      ],
      "metadata": {
        "id": "edgcfXBW4Kiy"
      },
      "execution_count": null,
      "outputs": []
    },
    {
      "cell_type": "code",
      "source": [
        "Data2=gog.history(start='2023-01-03',end='2023-01-10')"
      ],
      "metadata": {
        "id": "YDaSM2x94U8i"
      },
      "execution_count": null,
      "outputs": []
    },
    {
      "cell_type": "code",
      "source": [
        "Data2"
      ],
      "metadata": {
        "id": "3V0NRmCN5UWO"
      },
      "execution_count": null,
      "outputs": []
    },
    {
      "cell_type": "code",
      "source": [
        "data3=yf.download(['GOOG','META'],period='1mo')"
      ],
      "metadata": {
        "id": "kKuHdNEm5cuB"
      },
      "execution_count": null,
      "outputs": []
    },
    {
      "cell_type": "code",
      "source": [
        "data3.head()"
      ],
      "metadata": {
        "id": "JWEIfFwc50JO"
      },
      "execution_count": null,
      "outputs": []
    },
    {
      "cell_type": "code",
      "source": [
        "data4=yf.download(['GOOG','META','AAPL'],start='2023-01-01',end='2023-01-10',group_by='ticker')"
      ],
      "metadata": {
        "id": "mHWNVWdL54vC"
      },
      "execution_count": null,
      "outputs": []
    },
    {
      "cell_type": "code",
      "source": [
        "data4.head()"
      ],
      "metadata": {
        "id": "Ox0mZ5SY63Ve"
      },
      "execution_count": null,
      "outputs": []
    },
    {
      "cell_type": "code",
      "source": [
        "pd.DataFrame(gog.info)"
      ],
      "metadata": {
        "id": "z9lpglNT66zo"
      },
      "execution_count": null,
      "outputs": []
    },
    {
      "cell_type": "code",
      "source": [
        "dhr=yf.Ticker('DHR')"
      ],
      "metadata": {
        "id": "zQ0EE53m7YyU"
      },
      "execution_count": null,
      "outputs": []
    },
    {
      "cell_type": "code",
      "source": [
        "dhr.info['sector']"
      ],
      "metadata": {
        "id": "HtVEWDhA7zTo"
      },
      "execution_count": null,
      "outputs": []
    },
    {
      "cell_type": "code",
      "source": [
        "dhr.get_financials()"
      ],
      "metadata": {
        "id": "Fq1hBWq_75m5"
      },
      "execution_count": null,
      "outputs": []
    },
    {
      "cell_type": "code",
      "source": [],
      "metadata": {
        "id": "aMY_HJQQ8AK7"
      },
      "execution_count": null,
      "outputs": []
    }
  ]
}
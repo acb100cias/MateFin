{
  "nbformat": 4,
  "nbformat_minor": 0,
  "metadata": {
    "colab": {
      "private_outputs": true,
      "provenance": [],
      "authorship_tag": "ABX9TyMZehW05dM9Kf4ARiddVqrL",
      "include_colab_link": true
    },
    "kernelspec": {
      "name": "python3",
      "display_name": "Python 3"
    },
    "language_info": {
      "name": "python"
    }
  },
  "cells": [
    {
      "cell_type": "markdown",
      "metadata": {
        "id": "view-in-github",
        "colab_type": "text"
      },
      "source": [
        "<a href=\"https://colab.research.google.com/github/acb100cias/MateFin/blob/main/Bonos.ipynb\" target=\"_parent\"><img src=\"https://colab.research.google.com/assets/colab-badge.svg\" alt=\"Open In Colab\"/></a>"
      ]
    },
    {
      "cell_type": "code",
      "execution_count": null,
      "metadata": {
        "id": "AqUw0OCksRxC"
      },
      "outputs": [],
      "source": [
        "import numpy_financial as npf\n",
        "import numpy as np"
      ]
    },
    {
      "cell_type": "code",
      "source": [
        "!pip install numpy_financial"
      ],
      "metadata": {
        "id": "rtBVJASBtaZQ"
      },
      "execution_count": null,
      "outputs": []
    },
    {
      "cell_type": "code",
      "source": [],
      "metadata": {
        "id": "tKvFcg19tMhw"
      },
      "execution_count": null,
      "outputs": []
    },
    {
      "cell_type": "markdown",
      "source": [
        "Precio de un bono"
      ],
      "metadata": {
        "id": "VndXZiyntpj0"
      }
    },
    {
      "cell_type": "code",
      "source": [
        "principal=2000\n",
        "interes_anual=0.06\n",
        "n=5\n",
        "cupon=0.08*principal\n"
      ],
      "metadata": {
        "id": "Ml2rkCERtv93"
      },
      "execution_count": null,
      "outputs": []
    },
    {
      "cell_type": "code",
      "source": [
        "Precio_bono=round((npf.pv(interes_anual,n,cupon,principal))*-1,2)"
      ],
      "metadata": {
        "id": "qfxsM6PCuE4r"
      },
      "execution_count": null,
      "outputs": []
    },
    {
      "cell_type": "code",
      "source": [
        "Precio_bono"
      ],
      "metadata": {
        "id": "OC5IbU-Nufk_"
      },
      "execution_count": null,
      "outputs": []
    },
    {
      "cell_type": "markdown",
      "source": [
        "Calcular tasa de beneficio"
      ],
      "metadata": {
        "id": "kIWHj8IovaA_"
      }
    },
    {
      "cell_type": "code",
      "source": [
        "P=9000\n",
        "C=10000\n",
        "n=4\n",
        "cupon=0.05*C\n",
        "\n"
      ],
      "metadata": {
        "id": "9wsZO2BGujWX"
      },
      "execution_count": null,
      "outputs": []
    },
    {
      "cell_type": "code",
      "source": [
        "tb=((cupon+(C-P)/n)/((C+P)/2))*100"
      ],
      "metadata": {
        "id": "OYTUnFGYwJe8"
      },
      "execution_count": null,
      "outputs": []
    },
    {
      "cell_type": "code",
      "source": [
        "tb"
      ],
      "metadata": {
        "id": "kpBIRdC5wcxh"
      },
      "execution_count": null,
      "outputs": []
    },
    {
      "cell_type": "code",
      "source": [],
      "metadata": {
        "id": "pSi52-3GweIg"
      },
      "execution_count": null,
      "outputs": []
    }
  ]
}
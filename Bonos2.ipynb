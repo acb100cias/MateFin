{
  "nbformat": 4,
  "nbformat_minor": 0,
  "metadata": {
    "colab": {
      "private_outputs": true,
      "provenance": [],
      "authorship_tag": "ABX9TyN1TCTfdhlQlNYLw7yLm2QL",
      "include_colab_link": true
    },
    "kernelspec": {
      "name": "python3",
      "display_name": "Python 3"
    },
    "language_info": {
      "name": "python"
    }
  },
  "cells": [
    {
      "cell_type": "markdown",
      "metadata": {
        "id": "view-in-github",
        "colab_type": "text"
      },
      "source": [
        "<a href=\"https://colab.research.google.com/github/acb100cias/MateFin/blob/main/Bonos2.ipynb\" target=\"_parent\"><img src=\"https://colab.research.google.com/assets/colab-badge.svg\" alt=\"Open In Colab\"/></a>"
      ]
    },
    {
      "cell_type": "code",
      "execution_count": null,
      "metadata": {
        "id": "_rQMvq6rt-aU"
      },
      "outputs": [],
      "source": [
        "!pip install numpy-financial\n"
      ]
    },
    {
      "cell_type": "code",
      "source": [
        "import numpy as np\n",
        "import numpy_financial as npf"
      ],
      "metadata": {
        "id": "XwJBGyNFubcS"
      },
      "execution_count": null,
      "outputs": []
    },
    {
      "cell_type": "code",
      "source": [
        "def precio_bono(tiempo,flujo,r):\n",
        "  p=0\n",
        "  for i in range(len(tiempo)):\n",
        "    p+=flujo[i]/(1+r)**(tiempo[i])\n",
        "  return p"
      ],
      "metadata": {
        "id": "rhUe7kf5um78"
      },
      "execution_count": null,
      "outputs": []
    },
    {
      "cell_type": "code",
      "source": [
        "f=np.array([10,10,110])\n",
        "t=np.arange(1,4)\n",
        "r=0.09\n",
        "d=(1/(1+r)**t)\n",
        "B=np.sum(d*f)"
      ],
      "metadata": {
        "id": "ZRzBQH3dvQJ6"
      },
      "execution_count": null,
      "outputs": []
    },
    {
      "cell_type": "code",
      "source": [
        "print('precio del bono = {:.3f}'.format(precio_bono(t,f,r)))"
      ],
      "metadata": {
        "id": "lbtREiJavptP"
      },
      "execution_count": null,
      "outputs": []
    },
    {
      "cell_type": "code",
      "source": [
        "def beneficio_bono(tiempo,flujo,precio):\n",
        "  A=1e-5\n",
        "  M=200\n",
        "  ini=0\n",
        "  fin=1\n",
        "  while precio_bono(tiempo,flujo,fin) > precio:\n",
        "    fin=fin*2\n",
        "  r=0.5*(fin+ini)\n",
        "  for k in range(M):\n",
        "    diff=precio_bono(tiempo,flujo,r)-precio\n",
        "    if np.abs(diff)< A:\n",
        "      return r\n",
        "    if diff >0:\n",
        "      fin = r\n",
        "    else:\n",
        "      ini = r\n",
        "    r=0.5*(ini+fin)\n",
        "  return r\n"
      ],
      "metadata": {
        "id": "WM3NIEJTwEwk"
      },
      "execution_count": null,
      "outputs": []
    },
    {
      "cell_type": "code",
      "source": [
        "f=np.array([10,10,110])\n",
        "t=np.arange(1,4)\n",
        "r=0.09\n",
        "b=np.sum(f*(1/(1+r)**t))"
      ],
      "metadata": {
        "id": "sEF1leocyOBk"
      },
      "execution_count": null,
      "outputs": []
    },
    {
      "cell_type": "code",
      "source": [
        "print('Precio del bono a 9 porciento de interes = {:.3f}'.format(precio_bono(t,f,r)))\n",
        "print('Tasa de beneficio = {:.2f}'.format(beneficio_bono(t,f,b)))"
      ],
      "metadata": {
        "id": "6olwXbNGyhsc"
      },
      "execution_count": null,
      "outputs": []
    },
    {
      "cell_type": "code",
      "source": [
        "class Bono:\n",
        "  def get_vp(self,flujo,tasa,madurez):\n",
        "    vp=flujo/(1+tasa)**madurez\n",
        "    return vp\n",
        "  def get_ben(self,flujo,vp,madurez):\n",
        "    ben=(flujo/vp)**(1/madurez)-1\n",
        "    return ben"
      ],
      "metadata": {
        "id": "ARTc6R02zKKa"
      },
      "execution_count": null,
      "outputs": []
    },
    {
      "cell_type": "code",
      "source": [
        "calc=Bono()"
      ],
      "metadata": {
        "id": "npN65zPa0ic1"
      },
      "execution_count": null,
      "outputs": []
    },
    {
      "cell_type": "code",
      "source": [
        "calc.get_ben(110,105.77,2)"
      ],
      "metadata": {
        "id": "fKQ9KfOO0pkd"
      },
      "execution_count": null,
      "outputs": []
    },
    {
      "cell_type": "code",
      "source": [
        "calc.get_vp(110,0.02,2)"
      ],
      "metadata": {
        "id": "mKlajeK101Sl"
      },
      "execution_count": null,
      "outputs": []
    },
    {
      "cell_type": "code",
      "source": [
        "class BonoDesc:\n",
        "  def get_vp(self,C,tasa,periodos):\n",
        "    vp=C/(1+tasa)**periodos\n",
        "    return vp\n",
        "  @staticmethod\n",
        "  def get_ben(precio,C,periodos):\n",
        "    ben=(C/precio)**(1/periodos)-1\n",
        "    return ben\n"
      ],
      "metadata": {
        "id": "8_8MNzGA1C6y"
      },
      "execution_count": null,
      "outputs": []
    },
    {
      "cell_type": "code",
      "source": [
        "discal=BonoDesc()"
      ],
      "metadata": {
        "id": "YYlH7dSy2M2w"
      },
      "execution_count": null,
      "outputs": []
    },
    {
      "cell_type": "code",
      "source": [
        "discal.get_vp(100,0.05,15)"
      ],
      "metadata": {
        "id": "nF7Cr-ZP2YmW"
      },
      "execution_count": null,
      "outputs": []
    },
    {
      "cell_type": "code",
      "source": [
        "discal.get_ben(48.101,100,15)"
      ],
      "metadata": {
        "id": "5Zy03UnT2hvs"
      },
      "execution_count": null,
      "outputs": []
    },
    {
      "cell_type": "code",
      "source": [],
      "metadata": {
        "id": "OJC_hYIX20NH"
      },
      "execution_count": null,
      "outputs": []
    }
  ]
}
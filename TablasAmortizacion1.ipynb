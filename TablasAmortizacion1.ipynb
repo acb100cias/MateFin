{
  "nbformat": 4,
  "nbformat_minor": 0,
  "metadata": {
    "colab": {
      "private_outputs": true,
      "provenance": []
    },
    "kernelspec": {
      "name": "python3",
      "display_name": "Python 3"
    },
    "language_info": {
      "name": "python"
    }
  },
  "cells": [
    {
      "cell_type": "code",
      "execution_count": null,
      "metadata": {
        "id": "U5JPzBhEK5DP"
      },
      "outputs": [],
      "source": [
        "import pandas as pd\n",
        "import numpy as np"
      ]
    },
    {
      "cell_type": "code",
      "source": [
        "L=5000\n",
        "n=5\n",
        "i=.07"
      ],
      "metadata": {
        "id": "bO3rax5GLK3B"
      },
      "execution_count": null,
      "outputs": []
    },
    {
      "cell_type": "code",
      "source": [
        "def Pagos(L,n,i):\n",
        "  p=(L*i)/((1/(1+i)**n)-1)\n",
        "  return p"
      ],
      "metadata": {
        "id": "lKUnYK3FLdW1"
      },
      "execution_count": null,
      "outputs": []
    },
    {
      "cell_type": "code",
      "source": [
        "T=[]\n",
        "pago=Pagos(L,n,i)\n",
        "balance=L\n",
        "for y in range(1,n):\n",
        "  p_interes=balance*i\n",
        "  principal=pago-p_interes\n",
        "  balance= principal\n",
        "  T.append({'Periodo':y,'Pagos':Pagos(L,n,i),'Principal':principal,\n",
        "            'Interes':p_interes,'Balance': balance})\n"
      ],
      "metadata": {
        "id": "8Sym6EIbMD8i"
      },
      "execution_count": null,
      "outputs": []
    },
    {
      "cell_type": "code",
      "source": [
        "T"
      ],
      "metadata": {
        "id": "AV9jPFDhNnw7"
      },
      "execution_count": null,
      "outputs": []
    },
    {
      "cell_type": "code",
      "source": [
        "pd.DataFrame(T)"
      ],
      "metadata": {
        "id": "s0LqDkntNqU1"
      },
      "execution_count": null,
      "outputs": []
    },
    {
      "cell_type": "code",
      "source": [
        "def generaTabla(L,n,i):\n",
        "  T=[]\n",
        "  pago=Pagos(L,n,i)\n",
        "  balance=L\n",
        "  for y in range(1,n):\n",
        "    p_interes=balance*i\n",
        "    principal=pago-p_interes\n",
        "    balance= principal\n",
        "    T.append({'Periodo':y,'Pagos':Pagos(L,n,i),'Principal':principal,\n",
        "            'Interes':p_interes,'Balance': balance})\n",
        "  return pd.DataFrame(T)"
      ],
      "metadata": {
        "id": "Rh16j3csOze1"
      },
      "execution_count": null,
      "outputs": []
    },
    {
      "cell_type": "code",
      "source": [
        "M=18000\n",
        "i=0.0529\n",
        "m=60"
      ],
      "metadata": {
        "id": "HviV4MZ3P_zE"
      },
      "execution_count": null,
      "outputs": []
    },
    {
      "cell_type": "code",
      "source": [
        "im=i/12."
      ],
      "metadata": {
        "id": "sMQz-e4dTlTd"
      },
      "execution_count": null,
      "outputs": []
    },
    {
      "cell_type": "code",
      "source": [
        "im"
      ],
      "metadata": {
        "id": "59ZAVZjDT2zs"
      },
      "execution_count": null,
      "outputs": []
    },
    {
      "cell_type": "code",
      "source": [
        "def pago_mensual(principal,im,pago_m):\n",
        "  interes_corriente=principal*im\n",
        "  principal_corriente=pago_m - interes_corriente\n",
        "  principal= principal-principal_corriente\n",
        "  return [np.round(principal,2),np.round(principal_corriente,2),\n",
        "          np.round(interes_corriente,2)]"
      ],
      "metadata": {
        "id": "oAIVVAjhT3dW"
      },
      "execution_count": null,
      "outputs": []
    },
    {
      "cell_type": "code",
      "source": [
        "def generaTablaMensual(principal,tiempo,pago_m,im):\n",
        "  pagos=[[principal,0,0,0]]\n",
        "  interes_total = 0\n",
        "  while principal > 0 and tiempo > 0:\n",
        "    pago = pago_mensual(principal,im,pago_m)\n",
        "    principal=pago[0]\n",
        "    tiempo=tiempo-1\n",
        "    total_interes=pago[2]\n",
        "    pago.append(total_interes)\n",
        "    pagos.append(pago)\n",
        "  Tabla=pd.DataFrame(data=pagos,\n",
        "                     columns=['Principal','Pago','Interes','Interes Total'])\n",
        "  return Tabla"
      ],
      "metadata": {
        "id": "fz4m0mWEUFGf"
      },
      "execution_count": null,
      "outputs": []
    },
    {
      "cell_type": "code",
      "source": [
        "pago=(M*im)/(1-(1+im)**(-m))"
      ],
      "metadata": {
        "id": "byAXyRG3YBjg"
      },
      "execution_count": null,
      "outputs": []
    },
    {
      "cell_type": "code",
      "source": [
        "T2=generaTablaMensual(M,m,pago,im)"
      ],
      "metadata": {
        "id": "hSGYo9MvXQFL"
      },
      "execution_count": null,
      "outputs": []
    },
    {
      "cell_type": "code",
      "source": [
        "T2"
      ],
      "metadata": {
        "id": "2-OdEG-mYdN8"
      },
      "execution_count": null,
      "outputs": []
    },
    {
      "cell_type": "code",
      "source": [],
      "metadata": {
        "id": "mQ3yLqa2Yex-"
      },
      "execution_count": null,
      "outputs": []
    }
  ]
}
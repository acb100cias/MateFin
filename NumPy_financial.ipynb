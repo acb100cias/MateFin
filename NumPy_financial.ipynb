{
  "nbformat": 4,
  "nbformat_minor": 0,
  "metadata": {
    "colab": {
      "private_outputs": true,
      "provenance": [],
      "authorship_tag": "ABX9TyNkKCYeuVAk/5ROOJhJKEEx",
      "include_colab_link": true
    },
    "kernelspec": {
      "name": "python3",
      "display_name": "Python 3"
    },
    "language_info": {
      "name": "python"
    }
  },
  "cells": [
    {
      "cell_type": "markdown",
      "metadata": {
        "id": "view-in-github",
        "colab_type": "text"
      },
      "source": [
        "<a href=\"https://colab.research.google.com/github/acb100cias/MateFin/blob/main/NumPy_financial.ipynb\" target=\"_parent\"><img src=\"https://colab.research.google.com/assets/colab-badge.svg\" alt=\"Open In Colab\"/></a>"
      ]
    },
    {
      "cell_type": "code",
      "execution_count": null,
      "metadata": {
        "id": "IMx5IJ43odei"
      },
      "outputs": [],
      "source": [
        "!pip install numpy_financial"
      ]
    },
    {
      "cell_type": "code",
      "source": [
        "import numpy_financial as npf"
      ],
      "metadata": {
        "id": "ZVQJtEPHozYX"
      },
      "execution_count": null,
      "outputs": []
    },
    {
      "cell_type": "code",
      "source": [
        "flujo=[-100000,10000,18000,25000,32000,35000]\n",
        "i=0.05"
      ],
      "metadata": {
        "id": "Q9saIJFHqAZS"
      },
      "execution_count": null,
      "outputs": []
    },
    {
      "cell_type": "code",
      "source": [
        "npf.npv(i,flujo)"
      ],
      "metadata": {
        "id": "kQvr72qdrFN_"
      },
      "execution_count": null,
      "outputs": []
    },
    {
      "cell_type": "code",
      "source": [
        "import pandas as pd\n",
        "PV=[]\n",
        "I=[0.02,0.05,0.08,0.1,0.15]\n",
        "IR=[]\n",
        "for i in I:\n",
        "  ir=npf.irr(flujo)\n",
        "  PV.append(npf.npv(i,flujo))\n",
        "  IR.append(ir)\n",
        "D={'Tasa':I,'VPN':PV,'IR':IR}\n",
        "T1=pd.DataFrame(D)"
      ],
      "metadata": {
        "id": "GvQMNVoarOJi"
      },
      "execution_count": null,
      "outputs": []
    },
    {
      "cell_type": "code",
      "source": [
        "PV"
      ],
      "metadata": {
        "id": "-yr49DlPrwLz"
      },
      "execution_count": null,
      "outputs": []
    },
    {
      "cell_type": "code",
      "source": [
        "T1"
      ],
      "metadata": {
        "id": "jntMunPfrxLL"
      },
      "execution_count": null,
      "outputs": []
    },
    {
      "cell_type": "code",
      "source": [
        "npf.irr(flujo)"
      ],
      "metadata": {
        "id": "qAdAFMnBsVk7"
      },
      "execution_count": null,
      "outputs": []
    },
    {
      "cell_type": "code",
      "source": [
        "npf.fv(0.03,10,0,1000)"
      ],
      "metadata": {
        "id": "sRxxjJ_-s0KK"
      },
      "execution_count": null,
      "outputs": []
    },
    {
      "cell_type": "code",
      "source": [
        "npf.pv(0.03,10,0,1500)"
      ],
      "metadata": {
        "id": "DCds0D4it8tM"
      },
      "execution_count": null,
      "outputs": []
    },
    {
      "cell_type": "code",
      "source": [
        "i_a=0.025\n",
        "i_m=(1+i_a)**(1/12)-1\n",
        "m=25*12"
      ],
      "metadata": {
        "id": "anknLWc8uS9R"
      },
      "execution_count": null,
      "outputs": []
    },
    {
      "cell_type": "code",
      "source": [
        "pv=[]\n",
        "for i in range (1,m+1):\n",
        "  PV=(npf.pv(i_m,i,0,2000))*(-1)\n",
        "  pv.append(PV)\n",
        "\n"
      ],
      "metadata": {
        "id": "8EPA2S9luuwk"
      },
      "execution_count": null,
      "outputs": []
    },
    {
      "cell_type": "code",
      "source": [
        "import numpy as np\n",
        "pv=np.array(pv)"
      ],
      "metadata": {
        "id": "gvS217TTvX0T"
      },
      "execution_count": null,
      "outputs": []
    },
    {
      "cell_type": "code",
      "source": [
        "pv.sum()\n",
        "pv.mean()"
      ],
      "metadata": {
        "id": "Y2TGi2fDvYzw"
      },
      "execution_count": null,
      "outputs": []
    },
    {
      "cell_type": "code",
      "source": [],
      "metadata": {
        "id": "vhmEJbnzvm1n"
      },
      "execution_count": null,
      "outputs": []
    }
  ]
}
{
 "cells": [
  {
   "cell_type": "code",
   "execution_count": 1,
   "id": "7e5584af-a3d4-4392-8062-b5065598c67f",
   "metadata": {
    "tags": []
   },
   "outputs": [],
   "source": [
    "PV=5000 # Amount of loan borrowed\n",
    "n=5 # Term of the loan\n",
    "r=.07 # Annual interest rate"
   ]
  },
  {
   "cell_type": "code",
   "execution_count": 2,
   "id": "948a6ca9-8978-4752-8937-68e89dbb0c8e",
   "metadata": {
    "tags": []
   },
   "outputs": [],
   "source": [
    "def calculate_yearly_payments(PV,n,r):\n",
    "    output= (PV*r)/(((1/(1+r)**n))-1)  # formula calculated using sum of infinite GP series\n",
    "    return output"
   ]
  },
  {
   "cell_type": "code",
   "execution_count": 4,
   "id": "9d0fa4af-3670-4a13-97fd-55f04de3ed2f",
   "metadata": {
    "tags": []
   },
   "outputs": [],
   "source": [
    "import pandas as pd"
   ]
  },
  {
   "cell_type": "code",
   "execution_count": 13,
   "id": "fcb6394f-4304-4798-a13b-72dd5a988951",
   "metadata": {
    "tags": []
   },
   "outputs": [],
   "source": [
    "def generate_amortization_schedule(PV,n,r):\n",
    "    yearly_payment = calculate_yearly_payments(PV,n,r)\n",
    "    schedule=[]\n",
    "    balance=PV\n",
    "    for year in range(1,n):\n",
    "        interest_payment = balance * r\n",
    "        principal_payment = yearly_payment - interest_payment\n",
    "        balance = principal_payment\n",
    "        schedule.append({\n",
    "            'Year' : year,\n",
    "            'Payment' : yearly_payment,\n",
    "            'Principal' : principal_payment,\n",
    "            'Interest' : interest_payment,\n",
    "            'Balance' : balance     \n",
    "        })\n",
    "    return pd.DataFrame(schedule) "
   ]
  },
  {
   "cell_type": "code",
   "execution_count": 14,
   "id": "4f535a95-594f-4e32-b43a-a9cffe9bca8e",
   "metadata": {
    "tags": []
   },
   "outputs": [
    {
     "name": "stdout",
     "output_type": "stream",
     "text": [
      "   Year      Payment    Principal    Interest      Balance\n",
      "0     1 -1219.453472 -1569.453472  350.000000 -1569.453472\n",
      "1     2 -1219.453472 -1109.591729 -109.861743 -1109.591729\n",
      "2     3 -1219.453472 -1141.782051  -77.671421 -1141.782051\n",
      "3     4 -1219.453472 -1139.528729  -79.924744 -1139.528729\n"
     ]
    }
   ],
   "source": [
    "PV=5000\n",
    "n=5\n",
    "r=0.07\n",
    "amortization_schedule = generate_amortization_schedule(PV,n,r)\n",
    "\n",
    "print(amortization_schedule)"
   ]
  },
  {
   "cell_type": "code",
   "execution_count": 15,
   "id": "0fdd4147-e9f9-40cd-9738-cfbcef721497",
   "metadata": {
    "tags": []
   },
   "outputs": [
    {
     "data": {
      "text/html": [
       "<div>\n",
       "<style scoped>\n",
       "    .dataframe tbody tr th:only-of-type {\n",
       "        vertical-align: middle;\n",
       "    }\n",
       "\n",
       "    .dataframe tbody tr th {\n",
       "        vertical-align: top;\n",
       "    }\n",
       "\n",
       "    .dataframe thead th {\n",
       "        text-align: right;\n",
       "    }\n",
       "</style>\n",
       "<table border=\"1\" class=\"dataframe\">\n",
       "  <thead>\n",
       "    <tr style=\"text-align: right;\">\n",
       "      <th></th>\n",
       "      <th>Year</th>\n",
       "      <th>Payment</th>\n",
       "      <th>Principal</th>\n",
       "      <th>Interest</th>\n",
       "      <th>Balance</th>\n",
       "    </tr>\n",
       "  </thead>\n",
       "  <tbody>\n",
       "    <tr>\n",
       "      <th>0</th>\n",
       "      <td>1</td>\n",
       "      <td>-1219.453472</td>\n",
       "      <td>-1569.453472</td>\n",
       "      <td>350.000000</td>\n",
       "      <td>-1569.453472</td>\n",
       "    </tr>\n",
       "    <tr>\n",
       "      <th>1</th>\n",
       "      <td>2</td>\n",
       "      <td>-1219.453472</td>\n",
       "      <td>-1109.591729</td>\n",
       "      <td>-109.861743</td>\n",
       "      <td>-1109.591729</td>\n",
       "    </tr>\n",
       "    <tr>\n",
       "      <th>2</th>\n",
       "      <td>3</td>\n",
       "      <td>-1219.453472</td>\n",
       "      <td>-1141.782051</td>\n",
       "      <td>-77.671421</td>\n",
       "      <td>-1141.782051</td>\n",
       "    </tr>\n",
       "    <tr>\n",
       "      <th>3</th>\n",
       "      <td>4</td>\n",
       "      <td>-1219.453472</td>\n",
       "      <td>-1139.528729</td>\n",
       "      <td>-79.924744</td>\n",
       "      <td>-1139.528729</td>\n",
       "    </tr>\n",
       "  </tbody>\n",
       "</table>\n",
       "</div>"
      ],
      "text/plain": [
       "   Year      Payment    Principal    Interest      Balance\n",
       "0     1 -1219.453472 -1569.453472  350.000000 -1569.453472\n",
       "1     2 -1219.453472 -1109.591729 -109.861743 -1109.591729\n",
       "2     3 -1219.453472 -1141.782051  -77.671421 -1141.782051\n",
       "3     4 -1219.453472 -1139.528729  -79.924744 -1139.528729"
      ]
     },
     "execution_count": 15,
     "metadata": {},
     "output_type": "execute_result"
    }
   ],
   "source": [
    "amortization_schedule"
   ]
  },
  {
   "cell_type": "code",
   "execution_count": 16,
   "id": "efa97452-0071-48bb-b5a3-ba28ed7bbb48",
   "metadata": {
    "tags": []
   },
   "outputs": [],
   "source": [
    "import pandas as pd\n",
    "\n",
    "# Initialize the paramaters of the loan\n",
    "loan_amount = 18000\n",
    "apr = 5.29\n",
    "loan_term = 60\n",
    "\n",
    "# Get a monthly percentage rate\n",
    "apr /= 100\n",
    "mpr = apr / 12\n",
    "\n",
    "# Calculate the Monthly Payment for a loan\n",
    "monthly_payment = (loan_amount * mpr)/(1-(1+mpr) ** -loan_term)\n",
    "\n",
    "def make_payment(principal, mpr, monthly_payment):\n",
    "    '''Makes a 'payment' by subtracting and updated payment amount from the \n",
    "    principal. Returns the principal remaining, and the amount of principal and interest paid\n",
    "    '''\n",
    "\n",
    "    current_interest_payment = principal * mpr\n",
    "    current_principal_payment = monthly_payment - current_interest_payment\n",
    "    \n",
    "    principal -= current_principal_payment\n",
    "    \n",
    "    return [round(principal, 2), round(current_principal_payment, 2), round(current_interest_payment, 2)] \n",
    "\n",
    "def main(principal, term_remaining, monthly_payment, mpr):\n",
    "    '''Returns an Amortization Table in the form of a DataFrame\n",
    "    '''\n",
    "    \n",
    "    payments = [[principal, 0, 0, 0]]\n",
    "    total_interest = 0\n",
    "    \n",
    "    while principal > 0 and term_remaining > 0:\n",
    "        payment = make_payment(principal, mpr, monthly_payment)\n",
    "        principal = payment[0]\n",
    "        term_remaining -= 1\n",
    "        total_interest += payment[2]\n",
    "        payment.append(total_interest)\n",
    "        payments.append(payment)\n",
    "\n",
    "    amortization_table = pd.DataFrame(data=payments,\n",
    "                                      columns=['Principal Remaining',\n",
    "                                              'Current Principal Payment',\n",
    "                                              'Current Interest Payment',\n",
    "                                              'Total Interest Paid'])\n",
    "    return amortization_table\n"
   ]
  },
  {
   "cell_type": "code",
   "execution_count": 17,
   "id": "76c13398-524b-4621-beb4-c3ee550788bc",
   "metadata": {
    "tags": []
   },
   "outputs": [
    {
     "data": {
      "text/html": [
       "<div>\n",
       "<style scoped>\n",
       "    .dataframe tbody tr th:only-of-type {\n",
       "        vertical-align: middle;\n",
       "    }\n",
       "\n",
       "    .dataframe tbody tr th {\n",
       "        vertical-align: top;\n",
       "    }\n",
       "\n",
       "    .dataframe thead th {\n",
       "        text-align: right;\n",
       "    }\n",
       "</style>\n",
       "<table border=\"1\" class=\"dataframe\">\n",
       "  <thead>\n",
       "    <tr style=\"text-align: right;\">\n",
       "      <th></th>\n",
       "      <th>Principal Remaining</th>\n",
       "      <th>Current Principal Payment</th>\n",
       "      <th>Current Interest Payment</th>\n",
       "      <th>Total Interest Paid</th>\n",
       "    </tr>\n",
       "  </thead>\n",
       "  <tbody>\n",
       "    <tr>\n",
       "      <th>0</th>\n",
       "      <td>18000.00</td>\n",
       "      <td>0.00</td>\n",
       "      <td>0.00</td>\n",
       "      <td>0.00</td>\n",
       "    </tr>\n",
       "    <tr>\n",
       "      <th>1</th>\n",
       "      <td>17737.27</td>\n",
       "      <td>262.73</td>\n",
       "      <td>79.35</td>\n",
       "      <td>79.35</td>\n",
       "    </tr>\n",
       "    <tr>\n",
       "      <th>2</th>\n",
       "      <td>17473.38</td>\n",
       "      <td>263.89</td>\n",
       "      <td>78.19</td>\n",
       "      <td>157.54</td>\n",
       "    </tr>\n",
       "    <tr>\n",
       "      <th>3</th>\n",
       "      <td>17208.33</td>\n",
       "      <td>265.05</td>\n",
       "      <td>77.03</td>\n",
       "      <td>234.57</td>\n",
       "    </tr>\n",
       "    <tr>\n",
       "      <th>4</th>\n",
       "      <td>16942.11</td>\n",
       "      <td>266.22</td>\n",
       "      <td>75.86</td>\n",
       "      <td>310.43</td>\n",
       "    </tr>\n",
       "    <tr>\n",
       "      <th>...</th>\n",
       "      <td>...</td>\n",
       "      <td>...</td>\n",
       "      <td>...</td>\n",
       "      <td>...</td>\n",
       "    </tr>\n",
       "    <tr>\n",
       "      <th>56</th>\n",
       "      <td>1353.36</td>\n",
       "      <td>334.64</td>\n",
       "      <td>7.44</td>\n",
       "      <td>2509.79</td>\n",
       "    </tr>\n",
       "    <tr>\n",
       "      <th>57</th>\n",
       "      <td>1017.25</td>\n",
       "      <td>336.11</td>\n",
       "      <td>5.97</td>\n",
       "      <td>2515.76</td>\n",
       "    </tr>\n",
       "    <tr>\n",
       "      <th>58</th>\n",
       "      <td>679.66</td>\n",
       "      <td>337.59</td>\n",
       "      <td>4.48</td>\n",
       "      <td>2520.24</td>\n",
       "    </tr>\n",
       "    <tr>\n",
       "      <th>59</th>\n",
       "      <td>340.58</td>\n",
       "      <td>339.08</td>\n",
       "      <td>3.00</td>\n",
       "      <td>2523.24</td>\n",
       "    </tr>\n",
       "    <tr>\n",
       "      <th>60</th>\n",
       "      <td>0.00</td>\n",
       "      <td>340.58</td>\n",
       "      <td>1.50</td>\n",
       "      <td>2524.74</td>\n",
       "    </tr>\n",
       "  </tbody>\n",
       "</table>\n",
       "<p>61 rows × 4 columns</p>\n",
       "</div>"
      ],
      "text/plain": [
       "    Principal Remaining  Current Principal Payment  Current Interest Payment  \\\n",
       "0              18000.00                       0.00                      0.00   \n",
       "1              17737.27                     262.73                     79.35   \n",
       "2              17473.38                     263.89                     78.19   \n",
       "3              17208.33                     265.05                     77.03   \n",
       "4              16942.11                     266.22                     75.86   \n",
       "..                  ...                        ...                       ...   \n",
       "56              1353.36                     334.64                      7.44   \n",
       "57              1017.25                     336.11                      5.97   \n",
       "58               679.66                     337.59                      4.48   \n",
       "59               340.58                     339.08                      3.00   \n",
       "60                 0.00                     340.58                      1.50   \n",
       "\n",
       "    Total Interest Paid  \n",
       "0                  0.00  \n",
       "1                 79.35  \n",
       "2                157.54  \n",
       "3                234.57  \n",
       "4                310.43  \n",
       "..                  ...  \n",
       "56              2509.79  \n",
       "57              2515.76  \n",
       "58              2520.24  \n",
       "59              2523.24  \n",
       "60              2524.74  \n",
       "\n",
       "[61 rows x 4 columns]"
      ]
     },
     "execution_count": 17,
     "metadata": {},
     "output_type": "execute_result"
    }
   ],
   "source": [
    "main(loan_amount, loan_term, monthly_payment, mpr)"
   ]
  },
  {
   "cell_type": "code",
   "execution_count": 18,
   "id": "31dd723f-b3b4-429e-a9ac-1f4d29087281",
   "metadata": {
    "tags": []
   },
   "outputs": [],
   "source": [
    "import pandas as pd\n",
    "\n",
    "def calculate_loan_schedule(loan_amount, annual_interest_rate, loan_term_months, monthly_prepayment):\n",
    "    monthly_interest_rate = annual_interest_rate / 12 / 100\n",
    "    monthly_payment = loan_amount * (monthly_interest_rate * (1 + monthly_interest_rate) ** loan_term_months) / (\n",
    "            (1 + monthly_interest_rate) ** loan_term_months - 1)\n",
    "\n",
    "    schedule = []\n",
    "    remaining_balance = loan_amount\n",
    "\n",
    "    original_loan_amount = loan_amount\n",
    "    original_loan_term_months = loan_term_months\n",
    "\n",
    "    for month in range(1, loan_term_months + 1):\n",
    "        interest_payment = remaining_balance * monthly_interest_rate\n",
    "        principal_payment = monthly_payment - interest_payment\n",
    "\n",
    "        if month <= 8 * 12:  # Apply prepayments only for the first 5 years\n",
    "            remaining_balance -= (monthly_payment + monthly_prepayment - interest_payment)\n",
    "        else:\n",
    "            remaining_balance -= (monthly_payment - interest_payment)\n",
    "\n",
    "        if remaining_balance <= 0:\n",
    "            # Loan is fully paid, no need to continue calculating the schedule\n",
    "            loan_term_months = month\n",
    "            break\n",
    "\n",
    "        schedule.append({\n",
    "            'Month': month,\n",
    "            'Monthly Payment': monthly_payment,\n",
    "            'Interest Payment': interest_payment,\n",
    "            'Principal Payment': principal_payment,\n",
    "            'Prepayment': monthly_prepayment if month <= 8 * 12 else 0,\n",
    "            'Remaining Balance': max(0, remaining_balance)  # Ensure balance doesn't go negative\n",
    "        })\n",
    "\n",
    "    # Calculate total interest savings and total tenure reduced\n",
    "    original_interest = (monthly_payment * original_loan_term_months) - original_loan_amount\n",
    "    new_interest = (monthly_payment * loan_term_months) - loan_amount\n",
    "    interest_savings = original_interest - new_interest\n",
    "    tenure_reduced_months = original_loan_term_months - loan_term_months\n",
    "\n",
    "    summary = {\n",
    "        'Total Interest Savings': interest_savings,\n",
    "        'Total Tenure Reduced (months)': tenure_reduced_months\n",
    "    }\n",
    "\n",
    "    return schedule, summary\n"
   ]
  },
  {
   "cell_type": "code",
   "execution_count": 19,
   "id": "4244bc8e-193b-46a0-9e56-0ae852fd04b1",
   "metadata": {
    "tags": []
   },
   "outputs": [
    {
     "name": "stdout",
     "output_type": "stream",
     "text": [
      "Loan schedule has been generated and exported to 'loan_schedule.xlsx'.\n",
      "Summary:\n",
      "{'Total Interest Savings': 19275539.411529183, 'Total Tenure Reduced (months)': 226}\n"
     ]
    }
   ],
   "source": [
    "loan_amount = 10600000  # Replace with your loan amount\n",
    "annual_interest_rate = 9.0  # Replace with your annual interest rate\n",
    "loan_term_years = 30  # Replace with your loan term in years\n",
    "monthly_prepayment = 50000  # Replace with your monthly prepayment amount\n",
    "\n",
    "loan_term_months = loan_term_years * 12\n",
    "\n",
    "schedule, summary = calculate_loan_schedule(loan_amount, annual_interest_rate, loan_term_months, monthly_prepayment)\n",
    "\n",
    "# Create a DataFrame from the loan schedule\n",
    "df = pd.DataFrame(schedule)\n",
    "\n",
    "# Export DataFrame to Excel\n",
    "output_file = 'loan_schedule.xlsx'\n",
    "df.to_excel(output_file, index=False)\n",
    "\n",
    "# Display summary\n",
    "print(f\"Loan schedule has been generated and exported to '{output_file}'.\")\n",
    "print(\"Summary:\")\n",
    "print(summary)"
   ]
  },
  {
   "cell_type": "code",
   "execution_count": 23,
   "id": "36ed03b1-f5fb-4cf8-826d-9e7541a2952f",
   "metadata": {
    "tags": []
   },
   "outputs": [],
   "source": [
    "import numpy as np\n",
    "from datetime import date\n",
    "import matplotlib.pyplot as plt\n",
    "import matplotlib"
   ]
  },
  {
   "cell_type": "code",
   "execution_count": 29,
   "id": "e045043e-899f-47ab-917a-08ee2814f565",
   "metadata": {
    "tags": []
   },
   "outputs": [],
   "source": [
    "def amortization_table(interest_rate, years, payments_year, principal, addl_principal=0, start_date=date.today()):\n",
    "    \"\"\" Calculate the amortization schedule given the loan details\n",
    "    \n",
    "     Args:\n",
    "        interest_rate: The annual interest rate for this loan\n",
    "        years: Number of years for the loan\n",
    "        payments_year: Number of payments in a year\n",
    "        principal: Amount borrowed\n",
    "        addl_principal (optional): Additional payments to be made each period. Assume 0 if nothing provided.\n",
    "                                   must be a value less then 0, the function will convert a positive value to\n",
    "                                   negative\n",
    "        start_date (optional): Start date. Will start on first of next month if none provided\n",
    "\n",
    "    Returns:\n",
    "        schedule: Amortization schedule as a pandas dataframe\n",
    "        summary: Pandas dataframe that summarizes the payoff information\n",
    "    \"\"\"\n",
    "    # Ensure the additional payments are negative\n",
    "    if addl_principal > 0:\n",
    "        addl_principal = -addl_principal\n",
    "    \n",
    "    # Create an index of the payment dates\n",
    "    rng = pd.date_range(start_date, periods=years * payments_year, freq='MS')\n",
    "    rng.name = \"Payment_Date\"\n",
    "    \n",
    "    # Build up the Amortization schedule as a DataFrame\n",
    "    df = pd.DataFrame(index=rng,columns=['Payment', 'Principal', 'Interest', \n",
    "                                         'Addl_Principal', 'Curr_Balance'], dtype='float')\n",
    "    \n",
    "    # Add index by period (start at 1 not 0)\n",
    "    df.reset_index(inplace=True)\n",
    "    df.index += 1\n",
    "    df.index.name = \"Period\"\n",
    "    \n",
    "    # Calculate the payment, principal and interests amounts using built in Numpy functions\n",
    "    per_payment = npf.pmt(interest_rate/payments_year, years*payments_year, principal)\n",
    "    df[\"Payment\"] = per_payment\n",
    "    df[\"Principal\"] = npf.ppmt(interest_rate/payments_year, df.index, years*payments_year, principal)\n",
    "    df[\"Interest\"] = npf.ipmt(interest_rate/payments_year, df.index, years*payments_year, principal)\n",
    "        \n",
    "    # Round the values\n",
    "    df = df.round(2) \n",
    "    \n",
    "    # Add in the additional principal payments\n",
    "    df[\"Addl_Principal\"] = addl_principal\n",
    "    \n",
    "    # Store the Cumulative Principal Payments and ensure it never gets larger than the original principal\n",
    "    df[\"Cumulative_Principal\"] = (df[\"Principal\"] + df[\"Addl_Principal\"]).cumsum()\n",
    "    df[\"Cumulative_Principal\"] = df[\"Cumulative_Principal\"].clip(lower=-principal)\n",
    "    \n",
    "    # Calculate the current balance for each period\n",
    "    df[\"Curr_Balance\"] = principal + df[\"Cumulative_Principal\"]\n",
    "    \n",
    "    # Determine the last payment date\n",
    "    try:\n",
    "        last_payment = df.query(\"Curr_Balance <= 0\")[\"Curr_Balance\"].idxmax(axis=1, skipna=True)\n",
    "    except ValueError:\n",
    "        last_payment = df.last_valid_index()\n",
    "    \n",
    "    last_payment_date = \"{:%m-%d-%Y}\".format(df.loc[last_payment, \"Payment_Date\"])\n",
    "        \n",
    "    # Truncate the data frame if we have additional principal payments:\n",
    "    if addl_principal != 0:\n",
    "                \n",
    "        # Remove the extra payment periods\n",
    "        df = df.loc[0:last_payment].copy()\n",
    "        \n",
    "        # Calculate the principal for the last row\n",
    "        df.loc[last_payment, \"Principal\"] = -(df.loc[last_payment-1, \"Curr_Balance\"])\n",
    "        \n",
    "        # Calculate the total payment for the last row\n",
    "        df.loc[last_payment, \"Payment\"] = df.loc[last_payment, [\"Principal\", \"Interest\"]].sum()\n",
    "        \n",
    "        # Zero out the additional principal\n",
    "        df.loc[last_payment, \"Addl_Principal\"] = 0\n",
    "        \n",
    "    # Get the payment info into a DataFrame in column order\n",
    "    payment_info = (df[[\"Payment\", \"Principal\", \"Addl_Principal\", \"Interest\"]]\n",
    "                    .sum().to_frame().T)\n",
    "       \n",
    "    # Format the Date DataFrame\n",
    "    payment_details = pd.DataFrame.from_dict(dict([('payoff_date', [last_payment_date]),\n",
    "                                               ('Interest Rate', [interest_rate]),\n",
    "                                               ('Number of years', [years])\n",
    "                                              ]))\n",
    "    # Add a column showing how much we pay each period.\n",
    "    # Combine addl principal with principal for total payment\n",
    "    payment_details[\"Period_Payment\"] = round(per_payment, 2) + addl_principal\n",
    "    \n",
    "    payment_summary = pd.concat([payment_details, payment_info], axis=1)\n",
    "    return df, payment_summary"
   ]
  },
  {
   "cell_type": "code",
   "execution_count": 30,
   "id": "45ad1b80-0c91-4b56-8fb6-e20ea4b4b6a8",
   "metadata": {
    "tags": []
   },
   "outputs": [],
   "source": [
    "schedule1, stats1 = amortization_table(0.05, 30, 12, 100000, addl_principal=0)"
   ]
  },
  {
   "cell_type": "code",
   "execution_count": 27,
   "id": "66691e97-686f-486b-b491-2dbdcacc1442",
   "metadata": {
    "tags": []
   },
   "outputs": [],
   "source": [
    "import numpy_financial as npf"
   ]
  },
  {
   "cell_type": "code",
   "execution_count": 28,
   "id": "6ed4a513-9742-450d-af6a-1f0962fd8c12",
   "metadata": {
    "tags": []
   },
   "outputs": [
    {
     "data": {
      "text/plain": [
       "<function numpy_financial._financial.pmt(rate, nper, pv, fv=0, when='end')>"
      ]
     },
     "execution_count": 28,
     "metadata": {},
     "output_type": "execute_result"
    }
   ],
   "source": [
    "npf.pmt"
   ]
  },
  {
   "cell_type": "code",
   "execution_count": 32,
   "id": "d8da5f46-41d6-46c2-a005-5572e22c1fa5",
   "metadata": {
    "tags": []
   },
   "outputs": [
    {
     "data": {
      "text/html": [
       "<div>\n",
       "<style scoped>\n",
       "    .dataframe tbody tr th:only-of-type {\n",
       "        vertical-align: middle;\n",
       "    }\n",
       "\n",
       "    .dataframe tbody tr th {\n",
       "        vertical-align: top;\n",
       "    }\n",
       "\n",
       "    .dataframe thead th {\n",
       "        text-align: right;\n",
       "    }\n",
       "</style>\n",
       "<table border=\"1\" class=\"dataframe\">\n",
       "  <thead>\n",
       "    <tr style=\"text-align: right;\">\n",
       "      <th></th>\n",
       "      <th>payoff_date</th>\n",
       "      <th>Interest Rate</th>\n",
       "      <th>Number of years</th>\n",
       "      <th>Period_Payment</th>\n",
       "      <th>Payment</th>\n",
       "      <th>Principal</th>\n",
       "      <th>Addl_Principal</th>\n",
       "      <th>Interest</th>\n",
       "    </tr>\n",
       "  </thead>\n",
       "  <tbody>\n",
       "    <tr>\n",
       "      <th>0</th>\n",
       "      <td>02-01-2054</td>\n",
       "      <td>0.05</td>\n",
       "      <td>30</td>\n",
       "      <td>-536.82</td>\n",
       "      <td>-193255.2</td>\n",
       "      <td>-100000.02</td>\n",
       "      <td>0.0</td>\n",
       "      <td>-93255.69</td>\n",
       "    </tr>\n",
       "  </tbody>\n",
       "</table>\n",
       "</div>"
      ],
      "text/plain": [
       "  payoff_date  Interest Rate  Number of years  Period_Payment   Payment  \\\n",
       "0  02-01-2054           0.05               30         -536.82 -193255.2   \n",
       "\n",
       "   Principal  Addl_Principal  Interest  \n",
       "0 -100000.02             0.0 -93255.69  "
      ]
     },
     "execution_count": 32,
     "metadata": {},
     "output_type": "execute_result"
    }
   ],
   "source": [
    "stats1"
   ]
  },
  {
   "cell_type": "code",
   "execution_count": 35,
   "id": "868ac351-49ed-4863-9224-80e5819fbb7b",
   "metadata": {
    "tags": []
   },
   "outputs": [],
   "source": [
    "schedule2, stats2 = amortization_table(0.05, 30, 12, 100000, addl_principal=-200)\n",
    "schedule3, stats3 = amortization_table(0.04, 15, 12, 100000, addl_principal=0)"
   ]
  },
  {
   "cell_type": "code",
   "execution_count": 36,
   "id": "ed330185-93b3-4256-aa33-7d65e796a9ca",
   "metadata": {
    "tags": []
   },
   "outputs": [
    {
     "data": {
      "text/html": [
       "<div>\n",
       "<style scoped>\n",
       "    .dataframe tbody tr th:only-of-type {\n",
       "        vertical-align: middle;\n",
       "    }\n",
       "\n",
       "    .dataframe tbody tr th {\n",
       "        vertical-align: top;\n",
       "    }\n",
       "\n",
       "    .dataframe thead th {\n",
       "        text-align: right;\n",
       "    }\n",
       "</style>\n",
       "<table border=\"1\" class=\"dataframe\">\n",
       "  <thead>\n",
       "    <tr style=\"text-align: right;\">\n",
       "      <th></th>\n",
       "      <th>payoff_date</th>\n",
       "      <th>Interest Rate</th>\n",
       "      <th>Number of years</th>\n",
       "      <th>Period_Payment</th>\n",
       "      <th>Payment</th>\n",
       "      <th>Principal</th>\n",
       "      <th>Addl_Principal</th>\n",
       "      <th>Interest</th>\n",
       "    </tr>\n",
       "  </thead>\n",
       "  <tbody>\n",
       "    <tr>\n",
       "      <th>0</th>\n",
       "      <td>02-01-2054</td>\n",
       "      <td>0.05</td>\n",
       "      <td>30</td>\n",
       "      <td>-536.82</td>\n",
       "      <td>-193255.20</td>\n",
       "      <td>-100000.02</td>\n",
       "      <td>0.0</td>\n",
       "      <td>-93255.69</td>\n",
       "    </tr>\n",
       "    <tr>\n",
       "      <th>1</th>\n",
       "      <td>02-01-2054</td>\n",
       "      <td>0.05</td>\n",
       "      <td>30</td>\n",
       "      <td>-736.82</td>\n",
       "      <td>-192720.61</td>\n",
       "      <td>-99465.43</td>\n",
       "      <td>-71800.0</td>\n",
       "      <td>-93255.69</td>\n",
       "    </tr>\n",
       "    <tr>\n",
       "      <th>2</th>\n",
       "      <td>02-01-2039</td>\n",
       "      <td>0.04</td>\n",
       "      <td>15</td>\n",
       "      <td>-739.69</td>\n",
       "      <td>-133144.20</td>\n",
       "      <td>-100000.03</td>\n",
       "      <td>0.0</td>\n",
       "      <td>-33143.85</td>\n",
       "    </tr>\n",
       "  </tbody>\n",
       "</table>\n",
       "</div>"
      ],
      "text/plain": [
       "  payoff_date  Interest Rate  Number of years  Period_Payment    Payment  \\\n",
       "0  02-01-2054           0.05               30         -536.82 -193255.20   \n",
       "1  02-01-2054           0.05               30         -736.82 -192720.61   \n",
       "2  02-01-2039           0.04               15         -739.69 -133144.20   \n",
       "\n",
       "   Principal  Addl_Principal  Interest  \n",
       "0 -100000.02             0.0 -93255.69  \n",
       "1  -99465.43        -71800.0 -93255.69  \n",
       "2 -100000.03             0.0 -33143.85  "
      ]
     },
     "execution_count": 36,
     "metadata": {},
     "output_type": "execute_result"
    }
   ],
   "source": [
    "pd.concat([stats1, stats2, stats3], ignore_index=True)"
   ]
  },
  {
   "cell_type": "code",
   "execution_count": 33,
   "id": "8598d33a-4610-451c-8c57-0285b905d041",
   "metadata": {
    "tags": []
   },
   "outputs": [
    {
     "data": {
      "image/png": "[encoded data removed]",
      "text/plain": [
       "<Figure size 432x288 with 1 Axes>"
      ]
     },
     "metadata": {
      "needs_background": "light"
     },
     "output_type": "display_data"
    }
   ],
   "source": [
    "schedule1.plot(x='Payment_Date', y='Curr_Balance', title=\"Pay Off Timeline\");"
   ]
  },
  {
   "cell_type": "code",
   "execution_count": 37,
   "id": "af91284d-4059-4d24-aafe-49e052518b19",
   "metadata": {
    "tags": []
   },
   "outputs": [
    {
     "data": {
      "image/png": "[encoded data removed]",
      "text/plain": [
       "<Figure size 432x288 with 1 Axes>"
      ]
     },
     "metadata": {
      "needs_background": "light"
     },
     "output_type": "display_data"
    }
   ],
   "source": [
    "fig, ax = plt.subplots(1, 1)\n",
    "schedule1.plot(x='Payment_Date', y='Curr_Balance', label=\"Scenario 1\", ax=ax)\n",
    "schedule2.plot(x='Payment_Date', y='Curr_Balance', label=\"Scenario 2\", ax=ax)\n",
    "schedule3.plot(x='Payment_Date', y='Curr_Balance', label=\"Scenario 3\", ax=ax)\n",
    "plt.title(\"Pay Off Timelines\");"
   ]
  },
  {
   "cell_type": "code",
   "execution_count": 38,
   "id": "82b96865-1628-45ed-812e-9511e27b326e",
   "metadata": {
    "tags": []
   },
   "outputs": [
    {
     "data": {
      "image/png": "[encoded data removed]",
      "text/plain": [
       "<Figure size 432x288 with 1 Axes>"
      ]
     },
     "metadata": {
      "needs_background": "light"
     },
     "output_type": "display_data"
    }
   ],
   "source": [
    "schedule1[\"Cum_Interest\"] = schedule1[\"Interest\"].abs().cumsum()\n",
    "schedule2[\"Cum_Interest\"] = schedule2[\"Interest\"].abs().cumsum()\n",
    "schedule3[\"Cum_Interest\"] = schedule3[\"Interest\"].abs().cumsum()\n",
    "\n",
    "fig, ax = plt.subplots(1, 1)\n",
    "\n",
    "\n",
    "schedule1.plot(x='Payment_Date', y='Cum_Interest', label=\"Scenario 1\", ax=ax)\n",
    "schedule2.plot(x='Payment_Date', y='Cum_Interest', label=\"Scenario 2\", ax=ax, style='+')\n",
    "schedule3.plot(x='Payment_Date', y='Cum_Interest', label=\"Scenario 3\", ax=ax)\n",
    "\n",
    "ax.legend(loc=\"best\");"
   ]
  },
  {
   "cell_type": "code",
   "execution_count": 39,
   "id": "9b7a4fdc-4e77-4176-b96a-01da00fe75a9",
   "metadata": {
    "tags": []
   },
   "outputs": [
    {
     "data": {
      "image/png": "[encoded data removed]",
      "text/plain": [
       "<Figure size 432x288 with 1 Axes>"
      ]
     },
     "metadata": {
      "needs_background": "light"
     },
     "output_type": "display_data"
    }
   ],
   "source": [
    "fig, ax = plt.subplots(1, 1)\n",
    "\n",
    "y1_schedule = schedule1.set_index('Payment_Date').resample(\"A\")[\"Interest\"].sum().abs().reset_index()\n",
    "y1_schedule[\"Year\"] = y1_schedule[\"Payment_Date\"].dt.year\n",
    "y1_schedule.plot(kind=\"bar\", x=\"Year\", y=\"Interest\", ax=ax, label=\"30 Years @ 5%\")\n",
    "\n",
    "plt.title(\"Interest Payments\");"
   ]
  },
  {
   "cell_type": "code",
   "execution_count": null,
   "id": "d9f25822-9e67-49ff-9b70-532172f45536",
   "metadata": {},
   "outputs": [],
   "source": []
  }
 ],
 "metadata": {
  "kernelspec": {
   "display_name": "Python 3",
   "language": "python",
   "name": "python3"
  },
  "language_info": {
   "codemirror_mode": {
    "name": "ipython",
    "version": 3
   },
   "file_extension": ".py",
   "mimetype": "text/x-python",
   "name": "python",
   "nbconvert_exporter": "python",
   "pygments_lexer": "ipython3",
   "version": "3.9.2"
  }
 },
 "nbformat": 4,
 "nbformat_minor": 5
}
